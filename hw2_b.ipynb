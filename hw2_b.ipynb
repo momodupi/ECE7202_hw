{
 "cells": [
  {
   "cell_type": "code",
   "execution_count": 2,
   "metadata": {
    "collapsed": true
   },
   "outputs": [],
   "source": [
    "import numpy as np\n",
    "import matplotlib.pyplot as plt"
   ]
  },
  {
   "cell_type": "code",
   "execution_count": 10,
   "metadata": {
    "collapsed": true
   },
   "outputs": [],
   "source": [
    "S = 12\n",
    "df = 1\n",
    "\n",
    "# in the order of U D L R\n",
    "dynamic = {\n",
    "    0: [1, 0, 0, 3],\n",
    "    1: [2, 0, 1, 1],\n",
    "    2: [2, 1, 2, 4],\n",
    "    3: [3, 3, 0, 5],\n",
    "    4: [4, 4, 2, 7],\n",
    "    5: [6, 5, 3, 8],\n",
    "    6: [7, 5, 6, 9],\n",
    "    7: [7, 6, 4, 10],\n",
    "    8: [9, 8, 5, 8],\n",
    "    9: [11, 11, 11, 11],\n",
    "    10: [11, 11, 11, 11],\n",
    "    11: [11, 11, 11, 11]\n",
    "}\n",
    "\n",
    "# return a vector of 4 actions\n",
    "def reward(s):\n",
    "    if s == 11:\n",
    "        return np.zeros(4)\n",
    "    else:\n",
    "        if s == 9:\n",
    "            return -10*np.ones(4)\n",
    "        elif s == 10:\n",
    "            return 10*np.ones(4)\n",
    "        else:\n",
    "            return -1*np.ones(4)\n"
   ]
  },
  {
   "cell_type": "code",
   "execution_count": 11,
   "metadata": {},
   "outputs": [
    {
     "name": "stdout",
     "output_type": "stream",
     "text": [
      "26.1 ms ± 98.1 µs per loop (mean ± std. dev. of 3 runs, 100 loops each)\n"
     ]
    }
   ],
   "source": [
    "%%timeit -n100 -r3\n",
    "error = 1e-4\n",
    "pi = 0.25*np.ones(shape=(S, 4))\n",
    "V = np.zeros(S)\n",
    "# policy evaluation\n",
    "Delta = 10\n",
    "while Delta > error:\n",
    "    Delta = 0\n",
    "    for s in range(S):\n",
    "        v = V[s]\n",
    "        V[s] = pi[s].dot(reward(s) + df*V[dynamic[s]])\n",
    "        Delta = max(Delta, abs(v - V[s]))"
   ]
  },
  {
   "cell_type": "code",
   "execution_count": 12,
   "metadata": {},
   "outputs": [
    {
     "name": "stdout",
     "output_type": "stream",
     "text": [
      "26.5 ms ± 331 µs per loop (mean ± std. dev. of 3 runs, 100 loops each)\n"
     ]
    }
   ],
   "source": [
    "%%timeit -n100 -r3\n",
    "error = 1e-4\n",
    "pi = 0.25*np.ones(shape=(S, 4))\n",
    "V = np.zeros(S)\n",
    "# policy evaluation\n",
    "Delta = 10\n",
    "while Delta > error:\n",
    "    Delta = 0\n",
    "    for s in range(S-1,-1,-1):\n",
    "        v = V[s]\n",
    "        V[s] = pi[s].dot(reward(s) + df*V[dynamic[s]])\n",
    "        Delta = max(Delta, abs(v - V[s]))"
   ]
  },
  {
   "cell_type": "code",
   "execution_count": 7,
   "metadata": {},
   "outputs": [
    {
     "name": "stdout",
     "output_type": "stream",
     "text": [
      "[  5.   6.   7.   6.   8.   7.   8.   9.   6. -10.  10.   0.] [[ 1.  0.  0.  0.]\n",
      " [ 1.  0.  0.  0.]\n",
      " [ 0.  0.  0.  1.]\n",
      " [ 0.  0.  0.  1.]\n",
      " [ 0.  0.  0.  1.]\n",
      " [ 1.  0.  0.  0.]\n",
      " [ 1.  0.  0.  0.]\n",
      " [ 0.  0.  0.  1.]\n",
      " [ 0.  0.  1.  0.]\n",
      " [ 1.  0.  0.  0.]\n",
      " [ 1.  0.  0.  0.]\n",
      " [ 1.  0.  0.  0.]]\n"
     ]
    }
   ],
   "source": [
    "# get optimal poilcy\n",
    "error = 1e-4\n",
    "pi = 0.25*np.ones(shape=(S, 4))\n",
    "# V = np.random.normal(0, 1, S)\n",
    "V = np.zeros(S)\n",
    "\n",
    "term_flag = False\n",
    "\n",
    "while not term_flag:\n",
    "    # policy evaluation\n",
    "    Delta = 10\n",
    "    while Delta > error:\n",
    "        Delta = 0\n",
    "        for s in range(S):\n",
    "            v = V[s]\n",
    "            V[s] = pi[s].dot(reward(s) + df*V[dynamic[s]])\n",
    "            Delta = max(Delta, abs(v - V[s]))\n",
    "\n",
    "    # policy imporvement\n",
    "    term_flag = True\n",
    "    for s in range(S):\n",
    "        p = np.array(pi[s])\n",
    "        ai = np.argmax(reward(s) + df*V[dynamic[s]])\n",
    "        a = np.zeros(4)\n",
    "        a[ai] = 1.\n",
    "        pi[s] = a\n",
    "        # print(a, p)\n",
    "        if np.linalg.norm(a-p) > 1e-4:\n",
    "            term_flag = False\n",
    "            \n",
    "print(V, pi)"
   ]
  },
  {
   "cell_type": "code",
   "execution_count": 8,
   "metadata": {},
   "outputs": [
    {
     "name": "stdout",
     "output_type": "stream",
     "text": [
      "1.02 ms ± 107 µs per loop (mean ± std. dev. of 5 runs, 100 loops each)\n"
     ]
    }
   ],
   "source": [
    "%%timeit -n100 -r3\n",
    "error = 1e-4\n",
    "V = np.zeros(S)\n",
    "# policy evaluation\n",
    "Delta = 10\n",
    "while Delta > error:\n",
    "    Delta = 0\n",
    "    for s in range(S):\n",
    "        v = V[s]\n",
    "        V[s] = pi[s].dot(reward(s) + df*V[dynamic[s]])\n",
    "        Delta = max(Delta, abs(v - V[s]))"
   ]
  },
  {
   "cell_type": "code",
   "execution_count": 9,
   "metadata": {},
   "outputs": [
    {
     "name": "stdout",
     "output_type": "stream",
     "text": [
      "418 µs ± 17.1 µs per loop (mean ± std. dev. of 5 runs, 100 loops each)\n"
     ]
    }
   ],
   "source": [
    "%%timeit -n100 -r3\n",
    "error = 1e-4\n",
    "V = np.zeros(S)\n",
    "# policy evaluation\n",
    "Delta = 10\n",
    "while Delta > error:\n",
    "    Delta = 0\n",
    "    for s in range(S-1,-1,-1):\n",
    "        v = V[s]\n",
    "        V[s] = pi[s].dot(reward(s) + df*V[dynamic[s]])\n",
    "        Delta = max(Delta, abs(v - V[s]))"
   ]
  },
  {
   "cell_type": "code",
   "execution_count": null,
   "metadata": {
    "collapsed": true
   },
   "outputs": [],
   "source": []
  },
  {
   "cell_type": "code",
   "execution_count": null,
   "metadata": {
    "collapsed": true
   },
   "outputs": [],
   "source": []
  }
 ],
 "metadata": {
  "kernelspec": {
   "display_name": "Python 3",
   "language": "python",
   "name": "python3"
  },
  "language_info": {
   "codemirror_mode": {
    "name": "ipython",
    "version": 3
   },
   "file_extension": ".py",
   "mimetype": "text/x-python",
   "name": "python",
   "nbconvert_exporter": "python",
   "pygments_lexer": "ipython3",
   "version": "3.7.4"
  },
  "vscode": {
   "interpreter": {
    "hash": "d59cf9ca8d31cb47517a7fad2b3e1510715bfb88a371f96f6317cd69198ae666"
   }
  }
 },
 "nbformat": 4,
 "nbformat_minor": 2
}
